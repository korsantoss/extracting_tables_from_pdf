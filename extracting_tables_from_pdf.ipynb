{
  "cells": [
    {
      "cell_type": "code",
      "execution_count": 1,
      "metadata": {
        "id": "Ywj-gVMziguh"
      },
      "outputs": [],
      "source": [
        "# Desafio - Extração de tabelas de um pdf\n",
        "# by Kaique Oliveira"
      ]
    },
    {
      "cell_type": "code",
      "execution_count": null,
      "metadata": {
        "id": "1zZ_YWomploB"
      },
      "outputs": [],
      "source": [
        "# para a extração das tabelas do pdf, foi utilizada a biblioteca camelot.\n",
        "# como instalar:\n",
        "#!pip install \"camelot-py\"[cv]"
      ]
    },
    {
      "cell_type": "code",
      "execution_count": null,
      "metadata": {
        "id": "ULNc1X8_qzo4"
      },
      "outputs": [],
      "source": [
        "# o camelot possui como dependencia o ghostscript\n",
        "# caso não esteja instalada, execute:\n",
        "#!apt install ghostscript python3-tk"
      ]
    },
    {
      "cell_type": "code",
      "execution_count": 4,
      "metadata": {
        "id": "bodE3w_0p7sv"
      },
      "outputs": [],
      "source": [
        "# importaçoes necessarias\n",
        "import camelot\n",
        "import os\n",
        "import zipfile\n",
        "import requests"
      ]
    },
    {
      "cell_type": "code",
      "execution_count": 5,
      "metadata": {
        "id": "qfEgJYNxkKAH"
      },
      "outputs": [],
      "source": [
        "# diretorio onde os arquivos irao ficar (pdfs, csvs e zip)\n",
        "directory_files = '/content/'"
      ]
    },
    {
      "cell_type": "code",
      "execution_count": 6,
      "metadata": {
        "id": "dYJ7wrFY-z4Q"
      },
      "outputs": [],
      "source": [
        "# declaração dos nomes e caminhos dos arquivos que iremos manipular\n",
        "file_name_pdf = 'Padrão_TISS_Componente_Organizacional.pdf'\n",
        "file_name_zip = 'Teste_Intuitive_Care_Kaique_Oliveira.zip'\n",
        "path_pdf = directory_files+file_name_pdf\n",
        "path_zip = directory_files+file_name_zip"
      ]
    },
    {
      "cell_type": "code",
      "execution_count": 7,
      "metadata": {
        "id": "Tn6YfI2K7_BS"
      },
      "outputs": [],
      "source": [
        "# verifica se o arquivo .pdf existe. Caso não exista, sera feito o download\n",
        "check_pdf = os.path.isfile(path_pdf)\n",
        "if not check_pdf:\n",
        "  url = 'https://www.gov.br/ans/pt-br/arquivos/assuntos/prestadores/padrao-para-troca-de-informacao-de-saude-suplementar-tiss/padrao-tiss/padrao_tiss_componente_organizacional_202108.pdf'\n",
        "  resp = requests.get(url)\n",
        "  with open(path_pdf, 'wb') as file:\n",
        "    file.write(resp.content)"
      ]
    },
    {
      "cell_type": "code",
      "execution_count": 8,
      "metadata": {
        "id": "STetK-yScvIn"
      },
      "outputs": [],
      "source": [
        "# verifica se o arquivo zip ja existe. Caso não exista, sera criado.\n",
        "check_zip = os.path.isfile(path_zip)\n",
        "if not check_zip:\n",
        "  tables = camelot.read_pdf(path_pdf, pages='108-114') # realiza a leitura e mapeia as tabelas no pdf\n",
        "  tables.export(directory_files+'table.csv', f='csv') # exporta as tabelas encontradas e armazena em um caminho\n",
        "  file_zip = zipfile.ZipFile('Teste_Intuitive_Care_Kaique_Oliveira.zip', 'w') # cria e abre o zip no modo escrita\n",
        "  \n",
        "  for file in os.listdir(directory_files): # os.listdir lista tudo do diretorio. Apos listagem, percorremos por eles.\n",
        "    if file.endswith('.csv'): # caso o arquivo termine com .csv entraremos no if\n",
        "      file_zip.write(file) # realiza a escrita do arquivo csv no zip\n",
        "      os.remove(file) # remove o arquivo csv que ja foi escrito no zip \n",
        "  file_zip.close()"
      ]
    }
  ],
  "metadata": {
    "colab": {
      "collapsed_sections": [],
      "name": "extracting_tables_from_pdf.ipynb",
      "provenance": []
    },
    "kernelspec": {
      "display_name": "Python 3",
      "name": "python3"
    },
    "language_info": {
      "name": "python"
    }
  },
  "nbformat": 4,
  "nbformat_minor": 0
}
